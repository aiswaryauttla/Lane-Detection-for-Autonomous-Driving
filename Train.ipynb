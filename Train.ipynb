{
 "cells": [
  {
   "cell_type": "code",
   "execution_count": 1,
   "metadata": {},
   "outputs": [],
   "source": [
    "#System Modules\n",
    "import os.path\n",
    "\n",
    "# Deep Learning Modules\n",
    "from tensorboardX import SummaryWriter\n",
    "from torch.autograd import Variable\n",
    "from torch.utils.data import Dataset, ConcatDataset\n",
    "from torchvision.utils import make_grid\n",
    "from torch.nn import *\n",
    "# User Defined Modules\n",
    "import specs\n",
    "from data.Img_dataset import *\n",
    "from models.UNet import UNet\n",
    "\n",
    "from serde import *\n",
    "from utils.augmentation import *\n",
    "from Training import Training\n",
    "import warnings\n",
    "warnings.filterwarnings('ignore')"
   ]
  },
  {
   "cell_type": "code",
   "execution_count": 2,
   "metadata": {},
   "outputs": [],
   "source": [
    "%load_ext autoreload"
   ]
  },
  {
   "cell_type": "code",
   "execution_count": 3,
   "metadata": {},
   "outputs": [],
   "source": [
    "%autoreload 2"
   ]
  },
  {
   "cell_type": "code",
   "execution_count": 4,
   "metadata": {},
   "outputs": [],
   "source": [
    "cfg_path = './config.json'\n",
    "#Uncomment below line if you want to delete an experiment and reuse the same experiment name\n",
    "delete_experiment('UNet_SGD')\n",
    "params = create_experiment('UNet_SGD')\n",
    "cfg_path=params[\"cfg_path\"]"
   ]
  },
  {
   "cell_type": "code",
   "execution_count": 5,
   "metadata": {},
   "outputs": [
    {
     "name": "stdout",
     "output_type": "stream",
     "text": [
      "The number of images is more\n",
      "The number of images is less\n"
     ]
    }
   ],
   "source": [
    "# Train Set\n",
    "\n",
    "augmentation_operation = Compose([LeftRightFlip(cfg_path), Rotate(cfg_path), ColRec(cfg_path),GaussianNoise(cfg_path),ZoomIn(cfg_path),Invert(cfg_path)], cfg_path)\n",
    "#augmentation_operation=None\n",
    "\n",
    "train_dataset = ConcatDataset([\n",
    "        Img_dataset(dataset_name='TrainSet1000',size=150,cfg_path=cfg_path,augmentation=augmentation_operation),\n",
    "        Img_dataset(dataset_name='True_Negative_Dataset_Train',size=300,  cfg_path=cfg_path)\n",
    "\n",
    "    ])\n",
    "\n",
    "\n",
    "train_loader = torch.utils.data.DataLoader(dataset=train_dataset,\n",
    "                                               batch_size=1,\n",
    "                                               shuffle=True, num_workers=4)\n",
    "\n",
    "# Test Set\n",
    "test_dataset =  Img_dataset(dataset_name='TestSet20',size=20,cfg_path=cfg_path,mode=Mode.TEST, seed=5)\n",
    "test_loader = torch.utils.data.DataLoader(dataset=test_dataset,\n",
    "                                              batch_size=1,\n",
    "                                              shuffle=False, num_workers=4)\n",
    "\n"
   ]
  },
  {
   "cell_type": "code",
   "execution_count": 6,
   "metadata": {},
   "outputs": [],
   "source": [
    "#Initialize trainer\n",
    "#cfg_path=params['cfg_path']\n",
    "trainer=Training(cfg_path)"
   ]
  },
  {
   "cell_type": "code",
   "execution_count": 7,
   "metadata": {},
   "outputs": [],
   "source": [
    "#Defime model parameters\n",
    "optimiser_params={'lr':1e-3}\n",
    "#optimiser_params={'lr':0.1}\n",
    "#lane_to_nolane_weight_ratio=4\n",
    "lane_to_nolane_weight_ratio=15\n",
    "trainer.setup_model(model=UNet,\n",
    "                    optimiser=torch.optim.Adam,optimiser_params=optimiser_params,\n",
    "                    loss_function=CrossEntropyLoss,weight_ratio=lane_to_nolane_weight_ratio)"
   ]
  },
  {
   "cell_type": "code",
   "execution_count": 8,
   "metadata": {},
   "outputs": [
    {
     "name": "stdout",
     "output_type": "stream",
     "text": [
      "Epoch [1/5] \n",
      "\n",
      "Train steps 0 max_loss 0.583913147449\n",
      "Train steps 0 min_loss 0.583913147449\n",
      "Train steps 0 avg_loss 0.583913147449\n",
      "Train steps 100 max_loss 1.26698374748\n",
      "Train steps 100 min_loss 0.129163816571\n",
      "Train steps 100 avg_loss 0.364409446716\n",
      "Train steps 200 max_loss 1.59144985676\n",
      "Train steps 200 min_loss 0.088786393404\n",
      "Train steps 200 avg_loss 0.341916263103\n",
      "Train steps 300 max_loss 1.33200788498\n",
      "Train steps 300 min_loss 0.0802769362926\n",
      "Train steps 300 avg_loss 0.310572057962\n",
      "Train steps 400 max_loss 1.21691358089\n",
      "Train steps 400 min_loss 0.0591395460069\n",
      "Train steps 400 avg_loss 0.217186823487\n",
      "Test steps 408 max_loss 0.712032973766\n",
      "Test steps 408 min_loss 0.123291008174\n",
      "Test steps 408 avg_loss 0.300645142794\n",
      "Epoch [2/5] \n",
      "\n",
      "Train steps 0 max_loss 0.35252776742\n",
      "Train steps 0 min_loss 0.35252776742\n",
      "Train steps 0 avg_loss 0.35252776742\n",
      "Train steps 100 max_loss 1.59651851654\n",
      "Train steps 100 min_loss 0.0448490381241\n",
      "Train steps 100 avg_loss 0.208475396037\n",
      "Train steps 200 max_loss 1.49219155312\n",
      "Train steps 200 min_loss 0.0470243655145\n",
      "Train steps 200 avg_loss 0.268758386374\n",
      "Train steps 300 max_loss 1.65553796291\n",
      "Train steps 300 min_loss 0.0665553361177\n",
      "Train steps 300 avg_loss 0.24895337224\n",
      "Train steps 400 max_loss 0.872638463974\n",
      "Train steps 400 min_loss 0.0425024628639\n",
      "Train steps 400 avg_loss 0.17716152966\n",
      "Test steps 408 max_loss 1.0702559948\n",
      "Test steps 408 min_loss 0.232628315687\n",
      "Test steps 408 avg_loss 0.488415002823\n",
      "Epoch [3/5] \n",
      "\n",
      "Train steps 0 max_loss 0.110060796142\n",
      "Train steps 0 min_loss 0.110060796142\n",
      "Train steps 0 avg_loss 0.110060796142\n",
      "Train steps 100 max_loss 1.35598778725\n",
      "Train steps 100 min_loss 0.0236904565245\n",
      "Train steps 100 avg_loss 0.178833529353\n",
      "Train steps 200 max_loss 1.17978870869\n",
      "Train steps 200 min_loss 0.0365940406919\n",
      "Train steps 200 avg_loss 0.217113062739\n",
      "Train steps 300 max_loss 1.78523766994\n",
      "Train steps 300 min_loss 0.0344760492444\n",
      "Train steps 300 avg_loss 0.197534248233\n",
      "Train steps 400 max_loss 2.72228837013\n",
      "Train steps 400 min_loss 0.0459819287062\n",
      "Train steps 400 avg_loss 0.295531004667\n",
      "Test steps 408 max_loss 1.09790611267\n",
      "Test steps 408 min_loss 0.109537124634\n",
      "Test steps 408 avg_loss 0.528896272182\n",
      "Epoch [4/5] \n",
      "\n",
      "Train steps 0 max_loss 0.0921590775251\n",
      "Train steps 0 min_loss 0.0921590775251\n",
      "Train steps 0 avg_loss 0.0921590775251\n",
      "Train steps 100 max_loss 1.04450833797\n",
      "Train steps 100 min_loss 0.0317310243845\n",
      "Train steps 100 avg_loss 0.19550602138\n",
      "Train steps 200 max_loss 1.6196013689\n",
      "Train steps 200 min_loss 0.0425017289817\n",
      "Train steps 200 avg_loss 0.200859725475\n",
      "Train steps 300 max_loss 1.62583506107\n",
      "Train steps 300 min_loss 0.034016314894\n",
      "Train steps 300 avg_loss 0.198527872562\n",
      "Train steps 400 max_loss 1.42465651035\n",
      "Train steps 400 min_loss 0.0358489006758\n",
      "Train steps 400 avg_loss 0.195138528943\n",
      "Test steps 408 max_loss 1.44835865498\n",
      "Test steps 408 min_loss 0.0578974485397\n",
      "Test steps 408 avg_loss 0.702997148037\n",
      "Epoch [5/5] \n",
      "\n",
      "Train steps 0 max_loss 0.0466450080276\n",
      "Train steps 0 min_loss 0.0466450080276\n",
      "Train steps 0 avg_loss 0.0466450080276\n",
      "Train steps 100 max_loss 1.59162914753\n",
      "Train steps 100 min_loss 0.0276258829981\n",
      "Train steps 100 avg_loss 0.142278298736\n",
      "Train steps 200 max_loss 1.78709852695\n",
      "Train steps 200 min_loss 0.0294342208654\n",
      "Train steps 200 avg_loss 0.271196722984\n",
      "Train steps 300 max_loss 1.61607968807\n",
      "Train steps 300 min_loss 0.0313317552209\n",
      "Train steps 300 avg_loss 0.156639620662\n",
      "Train steps 400 max_loss 0.715088665485\n",
      "Train steps 400 min_loss 0.0201283358037\n",
      "Train steps 400 avg_loss 0.130428195\n",
      "Test steps 408 max_loss 0.330652296543\n",
      "Test steps 408 min_loss 0.0363383181393\n",
      "Test steps 408 avg_loss 0.195720776916\n"
     ]
    }
   ],
   "source": [
    "#Execute Training\n",
    "trainer.execute_training(train_loader,test_loader,num_epochs=5)\n",
    "#trainer.execute_training(train_loader,test_loader,num_epochs=3)"
   ]
  },
  {
   "cell_type": "code",
   "execution_count": null,
   "metadata": {},
   "outputs": [],
   "source": []
  }
 ],
 "metadata": {
  "kernelspec": {
   "display_name": "Python 2",
   "language": "python",
   "name": "python2"
  },
  "language_info": {
   "codemirror_mode": {
    "name": "ipython",
    "version": 2
   },
   "file_extension": ".py",
   "mimetype": "text/x-python",
   "name": "python",
   "nbconvert_exporter": "python",
   "pygments_lexer": "ipython2",
   "version": "2.7.15"
  }
 },
 "nbformat": 4,
 "nbformat_minor": 2
}
